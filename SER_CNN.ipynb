{
  "nbformat": 4,
  "nbformat_minor": 0,
  "metadata": {
    "colab": {
      "name": "SER_CNN.ipynb",
      "provenance": []
    },
    "kernelspec": {
      "name": "python3",
      "display_name": "Python 3"
    }
  },
  "cells": [
    {
      "cell_type": "code",
      "metadata": {
        "id": "AEq5tS0uYO1M",
        "colab_type": "code",
        "colab": {}
      },
      "source": [
        "import librosa\n",
        "import librosa.display\n",
        "import numpy as np\n",
        "import matplotlib.pyplot as plt\n",
        "import tensorflow as tf\n",
        "import keras\n",
        "import pandas as pd\n",
        "from keras.preprocessing import sequence\n",
        "from keras.models import Sequential\n",
        "from sklearn.utils import shuffle\n",
        "from keras.layers import Input, Flatten, Dropout, Activation\n",
        "from keras.layers import Conv1D, MaxPooling1D, AveragePooling1D\n",
        "from keras.models import Model\n",
        "from keras.callbacks import ModelCheckpoint\n",
        "from sklearn import model_selection\n",
        "from sklearn.metrics import confusion_matrix\n",
        "from keras import regularizers\n",
        "import os"
      ],
      "execution_count": 0,
      "outputs": []
    },
    {
      "cell_type": "code",
      "metadata": {
        "id": "ysgyJm62aIDT",
        "colab_type": "code",
        "outputId": "55fede2b-e96b-4127-dfe8-2d19d83ee395",
        "colab": {
          "base_uri": "https://localhost:8080/",
          "height": 34
        }
      },
      "source": [
        "# load data from google drive\n",
        "from google.colab import drive\n",
        "drive.mount('/content/gdrive')\n",
        "path = ('/content/gdrive/My Drive/ProjectDataSet/RAVDESS/Speech')"
      ],
      "execution_count": 0,
      "outputs": [
        {
          "output_type": "stream",
          "text": [
            "Drive already mounted at /content/gdrive; to attempt to forcibly remount, call drive.mount(\"/content/gdrive\", force_remount=True).\n"
          ],
          "name": "stdout"
        }
      ]
    },
    {
      "cell_type": "code",
      "metadata": {
        "id": "_oaUJkYmyYWN",
        "colab_type": "code",
        "colab": {}
      },
      "source": [
        "dataset = os.listdir(path)\n",
        "def emo_labels(rawEmo,gender):\n",
        "  switcher = {\n",
        "      '02': 'calm_female' if gender else 'calm_male',\n",
        "      '03': 'happy_female' if gender else 'happy_male',\n",
        "      '04': 'sad_female' if gender else 'sad_male',\n",
        "      '05': 'angry_female' if gender else 'angry_male',\n",
        "      '06': 'fearful_female' if gender else 'fearful_male',\n",
        "      'a': 'angry_male',\n",
        "      'f': 'fearful_male',\n",
        "      'h': 'happy_male',\n",
        "      'sa': 'sad_male',\n",
        "  }\n",
        "  return switcher.get(emo)\n",
        "def isFemale(s):\n",
        "  if int(s[-6:-4])%2==0:\n",
        "    return True\n",
        "  else:\n",
        "    return False"
      ],
      "execution_count": 0,
      "outputs": []
    },
    {
      "cell_type": "code",
      "metadata": {
        "id": "JO_o5x7b1bpQ",
        "colab_type": "code",
        "outputId": "f22b29ce-2d9f-4a5f-e7a3-84ef6f701041",
        "colab": {
          "base_uri": "https://localhost:8080/",
          "height": 255
        }
      },
      "source": [
        "datafeatures = pd.DataFrame(columns=['feature'])\n",
        "num_row = 0 # number of items\n",
        "emotions = []\n",
        "signal_count=0\n",
        "for s in (dataset):\n",
        "  emo = s[6:8]\n",
        "  if (emo in notAvai):\n",
        "    continue\n",
        "  else: \n",
        "    # Dataset sample rate is 44100 Hz\n",
        "    emotions.append(emo_labels(emo,isFemale(s)))\n",
        "    signal,sample_rate = librosa.load(path+'/'+s,res_type='kaiser_fast',duration=2.5,offset=0.5,sr=44100)\n",
        "    signal_count +=1\n",
        "    sample_rate = np.array(sample_rate)\n",
        "    mfcc_result = np.mean(librosa.feature.mfcc(y=signal,sr=sample_rate),axis=0)\n",
        "    features = mfcc_result\n",
        "    # add features to the data fure\n",
        "    datafeatures.loc[num_row]=[features]\n",
        "    num_row += 1\n",
        "labels = pd.DataFrame(emotions)\n",
        "print(datafeatures)"
      ],
      "execution_count": 0,
      "outputs": [
        {
          "output_type": "stream",
          "text": [
            "                                               feature\n",
            "0    [-31.225976359050843, -30.360910952614223, -29...\n",
            "1    [-36.727920763174176, -36.19586083434094, -34....\n",
            "2    [-34.11293679338285, -33.303795125524694, -33....\n",
            "3    [-35.04491932887174, -35.43746065352777, -36.8...\n",
            "4    [-28.260846852118636, -28.19863450174745, -29....\n",
            "..                                                 ...\n",
            "955  [-32.57304124240317, -32.47509560331276, -32.3...\n",
            "956  [-33.05663428442073, -33.39110548216278, -32.1...\n",
            "957  [-33.92867534096095, -32.353367106973074, -31....\n",
            "958  [-31.50154619188452, -30.856772960319915, -29....\n",
            "959  [-33.03304830484642, -33.874237913030235, -34....\n",
            "\n",
            "[960 rows x 1 columns]\n"
          ],
          "name": "stdout"
        }
      ]
    },
    {
      "cell_type": "code",
      "metadata": {
        "id": "TUtDhwFd8mgk",
        "colab_type": "code",
        "outputId": "82918292-1a43-4992-a787-7bdee444f664",
        "colab": {
          "base_uri": "https://localhost:8080/",
          "height": 255
        }
      },
      "source": [
        "# divide features to each columns\n",
        "df = pd.DataFrame(datafeatures['feature'].values.tolist())\n",
        "# combine features and it labels\n",
        "temp = pd.concat([df,labels],axis=1)\n",
        "# Change the name of colums 0(respresent labels) to labels\n",
        "# also suffle the data\n",
        "total_feat = shuffle(temp.rename(index=str, columns={\"0\": \"label\"}))\n",
        "print(total_feat)"
      ],
      "execution_count": 0,
      "outputs": [
        {
          "output_type": "stream",
          "text": [
            "           0          1          2    ...        214        215             0  \n",
            "41  -29.232220 -30.733137 -31.110382  ... -26.807050 -27.604548        sad_male\n",
            "123 -36.272136 -37.108761 -38.335186  ... -34.272618 -36.529412        sad_male\n",
            "506 -34.271076 -33.812120 -34.628319  ... -19.728301 -19.309484       calm_male\n",
            "339 -34.331044 -34.331044 -34.331044  ... -24.408461 -23.008585    angry_female\n",
            "103 -32.034278 -31.912527 -32.937392  ... -29.036553 -26.648856  fearful_female\n",
            "..         ...        ...        ...  ...        ...        ...             ...\n",
            "715 -42.709974 -42.709974 -40.212790  ... -33.989821 -32.443143     calm_female\n",
            "102 -26.626321 -25.969556 -25.813515  ... -28.304442 -29.306849  fearful_female\n",
            "359 -33.578089 -32.091351 -32.425807  ... -30.472274 -33.751325       calm_male\n",
            "856 -23.922212 -24.199619 -26.462817  ... -30.624032 -31.073882    fearful_male\n",
            "857 -40.142145 -38.325250 -34.713256  ... -34.834427 -33.524597    fearful_male\n",
            "\n",
            "[960 rows x 217 columns]\n"
          ],
          "name": "stdout"
        }
      ]
    },
    {
      "cell_type": "code",
      "metadata": {
        "id": "PP0Tk6Nt6Fdo",
        "colab_type": "code",
        "outputId": "3defbffa-3456-46e7-853d-20901e1679d4",
        "colab": {
          "base_uri": "https://localhost:8080/",
          "height": 255
        }
      },
      "source": [
        "total_feat = total_feat.fillna(0)\n",
        "# divide test set and train set\n",
        "# pop 80% as training\n",
        "train = total_feat.head(int(len(total_feat)*(80/100)))\n",
        "test = total_feat.tail(int(len(total_feat)*(20/100)))\n",
        "print(train)"
      ],
      "execution_count": 0,
      "outputs": [
        {
          "output_type": "stream",
          "text": [
            "           0          1          2    ...        214        215             0  \n",
            "41  -29.232220 -30.733137 -31.110382  ... -26.807050 -27.604548        sad_male\n",
            "123 -36.272136 -37.108761 -38.335186  ... -34.272618 -36.529412        sad_male\n",
            "506 -34.271076 -33.812120 -34.628319  ... -19.728301 -19.309484       calm_male\n",
            "339 -34.331044 -34.331044 -34.331044  ... -24.408461 -23.008585    angry_female\n",
            "103 -32.034278 -31.912527 -32.937392  ... -29.036553 -26.648856  fearful_female\n",
            "..         ...        ...        ...  ...        ...        ...             ...\n",
            "794 -41.943492 -41.943492 -41.943492  ... -26.608460 -26.711110     calm_female\n",
            "484 -36.351764 -36.177740 -33.860721  ... -40.428649 -40.428649      sad_female\n",
            "354 -31.012344 -29.942650 -29.589789  ... -31.225634 -31.747886      happy_male\n",
            "323 -41.818690 -41.818690 -37.644385  ... -39.980077 -39.662173      sad_female\n",
            "672 -40.368154 -40.368154 -40.368154  ... -40.368154 -40.368154        sad_male\n",
            "\n",
            "[768 rows x 217 columns]\n"
          ],
          "name": "stdout"
        }
      ]
    },
    {
      "cell_type": "code",
      "metadata": {
        "id": "SeVCfF8fP8Ud",
        "colab_type": "code",
        "colab": {}
      },
      "source": [
        "# get the feature (0~len-2 th column)\n",
        "train_feat = train.iloc[:,:-1]\n",
        "# label is the last column\n",
        "train_labels = train.iloc[:,-1:]\n",
        "# similar for test set\n",
        "test_feat = test.iloc[:,:-1]\n",
        "test_labels = test.iloc[:,-1:]"
      ],
      "execution_count": 0,
      "outputs": []
    },
    {
      "cell_type": "code",
      "metadata": {
        "id": "Y8nm_cUrd6dC",
        "colab_type": "code",
        "colab": {}
      },
      "source": [
        "x_train,x_test,y_train,y_test = np.array(train_feat),np.array(test_feat),np.array(train_labels),np.array(test_labels)"
      ],
      "execution_count": 0,
      "outputs": []
    },
    {
      "cell_type": "code",
      "metadata": {
        "id": "9Y6T7vxwfZlR",
        "colab_type": "code",
        "outputId": "bbe65bfa-f0c3-4c18-b2c3-d3b4b8846f5f",
        "colab": {
          "base_uri": "https://localhost:8080/",
          "height": 71
        }
      },
      "source": [
        "# convert data to numberic type (model understandable numerical data)\n",
        "from sklearn.preprocessing import LabelEncoder\n",
        "from keras.utils import to_categorical\n",
        "labelencoder = LabelEncoder()\n",
        "y_test = to_categorical(labelencoder.fit_transform(y_test))\n",
        "y_train = to_categorical(labelencoder.fit_transform(y_train))"
      ],
      "execution_count": 0,
      "outputs": [
        {
          "output_type": "stream",
          "text": [
            "/usr/local/lib/python3.6/dist-packages/sklearn/preprocessing/_label.py:251: DataConversionWarning: A column-vector y was passed when a 1d array was expected. Please change the shape of y to (n_samples, ), for example using ravel().\n",
            "  y = column_or_1d(y, warn=True)\n"
          ],
          "name": "stderr"
        }
      ]
    },
    {
      "cell_type": "code",
      "metadata": {
        "id": "33FCj1WnG3FF",
        "colab_type": "code",
        "colab": {}
      },
      "source": [
        "# Expand dimension through axis 2 for x_train and x_test\n",
        "x_test_expended = np.expand_dims(x_test, axis = 2)\n",
        "x_train_expended = np.expand_dims(x_train, axis = 2)"
      ],
      "execution_count": 0,
      "outputs": []
    },
    {
      "cell_type": "code",
      "metadata": {
        "id": "LEGnBYK0fZ1x",
        "colab_type": "code",
        "colab": {}
      },
      "source": [
        "# CNN\n",
        "model = Sequential()\n",
        "model.add(Conv1D(256, 5,padding='same', input_shape=(216,1)))\n",
        "model.add(Activation('relu'))\n",
        "model.add(Conv1D(128, 5,padding='same'))\n",
        "model.add(Activation('relu'))\n",
        "model.add(Dropout(0.1))\n",
        "model.add(MaxPooling1D(pool_size=(8)))\n",
        "model.add(Conv1D(128, 5,padding='same',))\n",
        "model.add(Activation('relu'))\n",
        "model.add(Conv1D(128, 5,padding='same',))\n",
        "model.add(Activation('relu'))\n",
        "model.add(Flatten())\n",
        "model.add(Dense(10))\n",
        "model.add(Activation('softmax'))\n",
        "opt = keras.optimizers.rmsprop(lr=0.00001, decay=1e-6)\n",
        "model.compile(loss='categorical_crossentropy', optimizer=opt,metrics=['accuracy'])"
      ],
      "execution_count": 0,
      "outputs": []
    },
    {
      "cell_type": "code",
      "metadata": {
        "id": "GkmFseN4Jraz",
        "colab_type": "code",
        "colab": {}
      },
      "source": [
        "model.summary()"
      ],
      "execution_count": 0,
      "outputs": []
    },
    {
      "cell_type": "code",
      "metadata": {
        "id": "xqstZYjWHp3l",
        "colab_type": "code",
        "colab": {}
      },
      "source": [
        "# train the model\n",
        "savemodel = model.fit(x_train_expended,y_train,batch_size=16,epochs=700,validation_data=(x_test_expended,y_test))"
      ],
      "execution_count": 0,
      "outputs": []
    }
  ]
}